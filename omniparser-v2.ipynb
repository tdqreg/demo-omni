{
 "cells": [
  {
   "cell_type": "code",
   "execution_count": null,
   "metadata": {
    "_cell_guid": "b1076dfc-b9ad-4769-8c92-a6c4dae69d19",
    "_uuid": "8f2839f25d086af736a60e9eeb907d3b93b6e0e5",
    "trusted": true
   },
   "outputs": [],
   "source": [
    "%pip install -r requirements.txt\n",
    "\n",
    "!for f in icon_detect/{train_args.yaml,model.pt,model.yaml} icon_caption/{config.json,generation_config.json,model.safetensors}; do hf download microsoft/OmniParser-v2.0 \"$f\" --local-dir weights; done\n",
    "!mv weights/icon_caption weights/icon_caption_florence\n",
    "\n",
    "# Nếu dùng transformers mới quá sẽ ko bị bỏ đi spda hoặc flashattention nên cần downgrade lại\n",
    "%pip install transformers==4.49.0 \n",
    "\n",
    "import util.utils as utils\n",
    "\n",
    "yolo_model = utils.get_yolo_model(model_path='weights/icon_detect/model.pt')\n",
    "caption_model_processor = utils.get_caption_model_processor(model_name=\"florence2\", model_name_or_path=\"weights/icon_caption_florence\")\n",
    "\n",
    "# Test thử ảnh ban đầu\n",
    "from PIL import Image\n",
    "image_input = Image.open(f\"./imgs/mspaint.png\")\n",
    "\n",
    "import matplotlib.pyplot as plt\n",
    "plt.imshow(image_input)\n",
    "plt.axis(\"off\")\n",
    "plt.show()"
   ]
  },
  {
   "cell_type": "code",
   "execution_count": null,
   "metadata": {
    "trusted": true
   },
   "outputs": [],
   "source": [
    "box_threshold = 0.05\n",
    "iou_threshold = 0.1\n",
    "use_paddleocr = True\n",
    "imgsz_component = 640\n",
    "box_overlay_ratio = image_input.size[0] / 3200\n",
    "draw_bbox_config = {\n",
    "    'text_scale': 0.8 * box_overlay_ratio,\n",
    "    'text_thickness': max(int(2 * box_overlay_ratio), 1),\n",
    "    'text_padding': max(int(3 * box_overlay_ratio), 1),\n",
    "    'thickness': max(int(3 * box_overlay_ratio), 1),\n",
    "}\n",
    "\n",
    "ocr_bbox_rslt, is_goal_filtered = utils.check_ocr_box(image_input, display_img = False, output_bb_format='xyxy', goal_filtering=None, easyocr_args={'paragraph': False, 'text_threshold':0.9}, use_paddleocr=use_paddleocr)\n",
    "text, ocr_bbox = ocr_bbox_rslt\n",
    "dino_labled_img, label_coordinates, parsed_content_list = utils.get_som_labeled_img(image_input, yolo_model, BOX_TRESHOLD = box_threshold, output_coord_in_ratio=True, ocr_bbox=ocr_bbox,draw_bbox_config=draw_bbox_config, caption_model_processor=caption_model_processor, ocr_text=text,iou_threshold=iou_threshold, imgsz=imgsz,)  \n",
    "\n",
    "import io, base64\n",
    "result_img = Image.open(io.BytesIO(base64.b64decode(dino_labled_img)))\n",
    "print('finish processing')\n",
    "parsed_content_list = '\\n'.join([f'icon {i}: ' + str(v) for i,v in enumerate(parsed_content_list)])\n",
    "\n",
    "plt.imshow(result_img)\n",
    "plt.show()\n"
   ]
  },
  {
   "cell_type": "code",
   "execution_count": null,
   "metadata": {},
   "outputs": [],
   "source": [
    "from importlib import reload\n",
    "import util.utils as utils\n",
    "\n",
    "reload(utils)"
   ]
  }
 ],
 "metadata": {
  "kaggle": {
   "accelerator": "nvidiaTeslaT4",
   "dataSources": [
    {
     "datasetId": 8219052,
     "sourceId": 12985385,
     "sourceType": "datasetVersion"
    }
   ],
   "dockerImageVersionId": 31090,
   "isGpuEnabled": true,
   "isInternetEnabled": true,
   "language": "python",
   "sourceType": "notebook"
  },
  "kernelspec": {
   "display_name": "Python 3",
   "language": "python",
   "name": "python3"
  },
  "language_info": {
   "codemirror_mode": {
    "name": "ipython",
    "version": 3
   },
   "file_extension": ".py",
   "mimetype": "text/x-python",
   "name": "python",
   "nbconvert_exporter": "python",
   "pygments_lexer": "ipython3",
   "version": "3.10.12"
  }
 },
 "nbformat": 4,
 "nbformat_minor": 4
}
